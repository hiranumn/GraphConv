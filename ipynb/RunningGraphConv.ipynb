{
 "cells": [
  {
   "cell_type": "code",
   "execution_count": 2,
   "metadata": {},
   "outputs": [],
   "source": [
    "import tensorflow as tf\n",
    "import numpy as np\n",
    "import sys\n",
    "sys.path.insert(0, '../')\n",
    "import utils\n",
    "import os\n",
    "\n",
    "# tells which GPU to use.\n",
    "os.environ[\"CUDA_VISIBLE_DEVICES\"]=\"1\"\n",
    "\n",
    "import matplotlib.pyplot as plt\n",
    "import seaborn as sns\n",
    "import graphConv as gc"
   ]
  },
  {
   "cell_type": "markdown",
   "metadata": {},
   "source": [
    "# Defining model\n",
    "\n",
    "3 layers of graphconv + 2 layers of dense."
   ]
  },
  {
   "cell_type": "code",
   "execution_count": 3,
   "metadata": {
    "collapsed": true
   },
   "outputs": [],
   "source": [
    "class PPiConv:\n",
    "    \n",
    "    def __init__(self, ppi, gconvlayer, outsize=33, batchsize=64):\n",
    "        # Parameters\n",
    "        self.ppi = ppi\n",
    "        self.batchsize = batchsize\n",
    "        self.outsize = outsize\n",
    "        self.genesize = 3949\n",
    "        self._lambda = 0.0\n",
    "        \n",
    "        # Make a graph\n",
    "        tf.reset_default_graph()\n",
    "        self.built = False\n",
    "        self.sesh = tf.Session()\n",
    "        self.ops = self.build(gconvlayer)\n",
    "        self.sesh.run(tf.global_variables_initializer())\n",
    "        \n",
    "        # Stats to keep track\n",
    "        self.e = 0\n",
    "        self.loss = {\"train\":[], \"val\":[]}\n",
    "        \n",
    "    def build(self, gconvlayer):\n",
    "        # Placeholders for input and dropout probs.\n",
    "        if self.built:\n",
    "            return -1\n",
    "        else:\n",
    "            self.built = True\n",
    "            \n",
    "        #Get DAD matrix (1st order approx. of Graph laplacian)\n",
    "        #This implements eq7 and 8 of the paper.\n",
    "        #We are using sparse tensor class\n",
    "        DAD = tf.SparseTensor(indices=self.ppi[0], values=tf.constant(self.ppi[1], dtype=tf.float32),\\\n",
    "                              dense_shape=[self.genesize, self.genesize])\n",
    "        \n",
    "        #Get data matrix to convolve\n",
    "        x = tf.placeholder(shape=[self.batchsize, self.genesize, 1], dtype=tf.float32)\n",
    "        y = tf.placeholder(shape=[self.batchsize, self.outsize], dtype=tf.float32)\n",
    "        keep_probability = tf.placeholder_with_default(1.0, shape=[])\n",
    "        \n",
    "        # Three layers of convolution 1->5->5->5\n",
    "        layer1 = gconvlayer(x, 5, DAD)\n",
    "        layer1 = tf.nn.dropout(layer1, keep_prob=keep_probability)\n",
    "        layer2 = gconvlayer(layer1, 5, DAD)\n",
    "        layer2 = tf.nn.dropout(layer2, keep_prob=keep_probability)\n",
    "        layer3 = gconvlayer(layer2, 2, DAD)\n",
    "        layer3 = tf.nn.dropout(layer3, keep_prob=keep_probability)\n",
    "\n",
    "        \n",
    "        # Flatten inputs\n",
    "        flattened = tf.layers.flatten(layer3)\n",
    "        dense1 = tf.contrib.layers.fully_connected(flattened, 526, activation_fn=tf.nn.relu)\n",
    "        dense1 = tf.nn.dropout(dense1, keep_prob=keep_probability)\n",
    "        dense2 = tf.contrib.layers.fully_connected(dense1, 64, activation_fn=tf.nn.relu)\n",
    "        \n",
    "        # Prediction\n",
    "        out = tf.contrib.layers.fully_connected(dense2, self.outsize, activation_fn=tf.identity)\n",
    "        preds = tf.nn.softmax(out)\n",
    "        \n",
    "        # Define loss\n",
    "        with tf.name_scope(\"l2_regularization\"):\n",
    "            regularizers = [tf.nn.l2_loss(v) for v in tf.trainable_variables() if \"weights\" in v.name]\n",
    "            l2_reg = self._lambda * tf.add_n(regularizers)\n",
    "            \n",
    "        with tf.name_scope(\"loss\"):\n",
    "            loss = tf.reduce_mean(tf.nn.softmax_cross_entropy_with_logits(labels=y, logits=out))\n",
    "            \n",
    "        with tf.name_scope(\"Adam_optimizer\"):\n",
    "            optimizer = tf.train.AdamOptimizer()\n",
    "            tvars = tf.trainable_variables()\n",
    "            grads_and_vars = optimizer.compute_gradients(loss+l2_reg, tvars)\n",
    "            clipped = [(tf.clip_by_value(grad, -5, 5), tvar) for grad, tvar in grads_and_vars]\n",
    "            train = optimizer.apply_gradients(clipped, name=\"minimize_cost\")\n",
    "        \n",
    "        # Exporting out the operaions as dictionary\n",
    "        return dict(\n",
    "            x = x,\n",
    "            y = y,\n",
    "            keep_prob = keep_probability,\n",
    "            train = train,\n",
    "            cost = loss+l2_reg,\n",
    "            preds = preds\n",
    "        )\n",
    "    \n",
    "    def train(self, train, valid, epochs):\n",
    "        # Defining the number of batches per epoch\n",
    "        batch_num = int(np.ceil(train.n*1.0/train.batchsize))\n",
    "        \n",
    "        e = 0\n",
    "        start_e = self.e\n",
    "        while e < epochs:\n",
    "            # Train\n",
    "            total = []\n",
    "            for i in range(batch_num):\n",
    "                #Training happens here.\n",
    "                batch = train.next()\n",
    "                feed_dict = {self.ops[\"x\"]: np.expand_dims(batch[0], -1),\\\n",
    "                             self.ops[\"y\"]: batch[1]}\n",
    "                \n",
    "                ops_to_run = [self.ops[\"preds\"],\\\n",
    "                              self.ops[\"cost\"],\\\n",
    "                              self.ops[\"train\"]]\n",
    "                \n",
    "                prediction, cost, _ = self.sesh.run(ops_to_run, feed_dict)\n",
    "                total.append(cost)\n",
    "                sys.stdout.write(\"\\rEpoch: [%2d/%2d], Batch: [%2d/%2d], loss: %.2f\"\n",
    "                                 %(self.e, start_e+epochs, i, batch_num, cost))\n",
    "            self.loss[\"train\"].append(np.mean(total))\n",
    "                \n",
    "            # Validate\n",
    "            total = []\n",
    "            corrects = 0\n",
    "            for i in range(0, valid.n, self.batchsize):\n",
    "                feed_dict = {self.ops[\"x\"]: np.expand_dims(valid.X[i:i+self.batchsize], -1),\\\n",
    "                            self.ops[\"y\"]: valid.Y[i:i+self.batchsize]}\n",
    "                \n",
    "                ops_to_run = [self.ops[\"preds\"],\\\n",
    "                              self.ops[\"cost\"]]\n",
    "                prediction, cost = self.sesh.run(ops_to_run, feed_dict)\n",
    "                total.append(cost)\n",
    "                corrects += np.sum((np.argmax(valid.Y[i:i+self.batchsize], axis=1) - np.argmax(prediction, axis=1)) == 0)\n",
    "            \n",
    "            self.loss[\"val\"].append(np.mean(total))\n",
    "            print \" valloss: %.2f\"%(np.mean(total)), \n",
    "            print \" valacc: %.2f (%2d/%2d)\"%(corrects*1.0/valid.n, corrects, valid.n)\n",
    "            \n",
    "            self.e+=1\n",
    "            e+= 1\n",
    "        return self.sesh.run([v for v in tf.trainable_variables() if \"gweights\" in v.name or \"gbias\" in v.name])\n",
    "    \n",
    "    def save(self, folder):\n",
    "        saver = tf.train.Saver(tf.all_variables())\n",
    "        os.system(\"mkdir \"+folder)\n",
    "        saver.save(self.sesh, folder+\"/model.ckpt\")\n",
    "        \n",
    "    def load(self, folder):\n",
    "        saver = tf.train.Saver(tf.all_variables())\n",
    "        saver.restore(self.sesh, folder+\"/model.ckpt\")\n",
    "\n",
    "    # Encode examples\n",
    "    def predict(self, x):\n",
    "        feed_dict = {self.ops[\"x\"]: x}\n",
    "        return self.sesh.run(self.ops[\"preds\"], feed_dict=feed_dict)"
   ]
  },
  {
   "cell_type": "markdown",
   "metadata": {},
   "source": [
    "Simply 3 layer dense net."
   ]
  },
  {
   "cell_type": "code",
   "execution_count": 4,
   "metadata": {
    "collapsed": true
   },
   "outputs": [],
   "source": [
    "class Dense:\n",
    "    \n",
    "    def __init__(self, outsize=33, batchsize=64):\n",
    "        # Parameters\n",
    "        self.batchsize = batchsize\n",
    "        self.outsize = outsize\n",
    "        self.genesize = 3949\n",
    "        self._lambda = 0.0\n",
    "        \n",
    "        # Make a graph\n",
    "        tf.reset_default_graph()\n",
    "        self.built = False\n",
    "        self.sesh = tf.Session()\n",
    "        self.ops = self.build()\n",
    "        self.sesh.run(tf.global_variables_initializer())\n",
    "        \n",
    "        # Stats to keep track\n",
    "        self.e = 0\n",
    "        self.loss = {\"train\":[], \"val\":[]}\n",
    "        \n",
    "    def build(self):\n",
    "        # Placeholders for input and dropout probs.\n",
    "        if self.built:\n",
    "            return -1\n",
    "        else:\n",
    "            self.built = True\n",
    "        \n",
    "        #Get data matrix to convolve\n",
    "        x = tf.placeholder(shape=[self.batchsize, self.genesize, 1], dtype=tf.float32)\n",
    "        y = tf.placeholder(shape=[self.batchsize, self.outsize], dtype=tf.float32)\n",
    "        keep_probability = tf.placeholder_with_default(1.0, shape=[])\n",
    "        isTraining = tf.placeholder_with_default(False, shape=[])\n",
    "        \n",
    "        # Flatten inputs\n",
    "        flattened = tf.layers.flatten(x)\n",
    "        #flattened = tf.contrib.layers.batch_norm(flattened, is_training=isTraining)\n",
    "\n",
    "        dense1 = tf.contrib.layers.fully_connected(flattened, 1024, activation_fn=tf.nn.relu)\n",
    "        dense1 = tf.nn.dropout(dense1, keep_prob=keep_probability)\n",
    "        dense2 = tf.contrib.layers.fully_connected(dense1, 512, activation_fn=tf.nn.relu)\n",
    "        dense2 = tf.nn.dropout(dense2, keep_prob=keep_probability)\n",
    "        dense3 = tf.contrib.layers.fully_connected(dense2, 64, activation_fn=tf.nn.relu)\n",
    "        dense3 = tf.nn.dropout(dense3, keep_prob=keep_probability)\n",
    "        \n",
    "        # Prediction\n",
    "        out = tf.contrib.layers.fully_connected(dense3, self.outsize, activation_fn=tf.identity)\n",
    "        preds = tf.nn.softmax(out)\n",
    "        \n",
    "        # Define loss\n",
    "        with tf.name_scope(\"l2_regularization\"):\n",
    "            regularizers = [tf.nn.l2_loss(v) for v in tf.trainable_variables() if \"weights\" in v.name]\n",
    "            l2_reg = self._lambda * tf.add_n(regularizers)\n",
    "            \n",
    "        with tf.name_scope(\"loss\"):\n",
    "            loss = tf.reduce_mean(tf.nn.softmax_cross_entropy_with_logits(labels=y, logits=out))\n",
    "            \n",
    "        with tf.name_scope(\"Adam_optimizer\"):\n",
    "            optimizer = tf.train.AdamOptimizer()\n",
    "            tvars = tf.trainable_variables()\n",
    "            grads_and_vars = optimizer.compute_gradients(loss+l2_reg, tvars)\n",
    "            clipped = [(tf.clip_by_value(grad, -5, 5), tvar) for grad, tvar in grads_and_vars]\n",
    "            train = optimizer.apply_gradients(clipped, name=\"minimize_cost\")\n",
    "        \n",
    "        # Exporting out the operaions as dictionary\n",
    "        return dict(\n",
    "            x = x,\n",
    "            y = y,\n",
    "            keep_prob = keep_probability,\n",
    "            isTraining = isTraining,\n",
    "            train = train,\n",
    "            cost = loss+l2_reg,\n",
    "            preds = preds\n",
    "        )\n",
    "    \n",
    "    def train(self, train, valid, epochs, dropout=1.0):\n",
    "        # Defining the number of batches per epoch\n",
    "        batch_num = int(np.ceil(train.n*1.0/train.batchsize))\n",
    "        \n",
    "        e = 0\n",
    "        start_e = self.e\n",
    "        while e < epochs:\n",
    "            # Train\n",
    "            total = []\n",
    "            for i in range(batch_num):\n",
    "                #Training happens here.\n",
    "                batch = train.next()\n",
    "                feed_dict = {self.ops[\"x\"]: np.expand_dims(batch[0], -1),\\\n",
    "                             self.ops[\"y\"]: batch[1],\\\n",
    "                             self.ops[\"keep_prob\"]: dropout,\\\n",
    "                             self.ops[\"isTraining\"]: True}\n",
    "                \n",
    "                ops_to_run = [self.ops[\"preds\"],\\\n",
    "                              self.ops[\"cost\"],\\\n",
    "                              self.ops[\"train\"]]\n",
    "                \n",
    "                prediction, cost, _ = self.sesh.run(ops_to_run, feed_dict)\n",
    "                total.append(cost)\n",
    "                sys.stdout.write(\"\\rEpoch: [%2d/%2d], Batch: [%2d/%2d], loss: %.2f\"\n",
    "                                 %(self.e, start_e+epochs, i, batch_num, cost))\n",
    "            self.loss[\"train\"].append(np.mean(total))\n",
    "                \n",
    "            # Validate\n",
    "            total = []\n",
    "            corrects = 0\n",
    "            for i in range(0, valid.n, self.batchsize):\n",
    "                feed_dict = {self.ops[\"x\"]: np.expand_dims(valid.X[i:i+self.batchsize], -1),\\\n",
    "                            self.ops[\"y\"]: valid.Y[i:i+self.batchsize]}\n",
    "                \n",
    "                ops_to_run = [self.ops[\"preds\"],\\\n",
    "                              self.ops[\"cost\"]]\n",
    "                prediction, cost = self.sesh.run(ops_to_run, feed_dict)\n",
    "                total.append(cost)\n",
    "                corrects += np.sum((np.argmax(valid.Y[i:i+self.batchsize], axis=1) - np.argmax(prediction, axis=1)) == 0)\n",
    "            \n",
    "            self.loss[\"val\"].append(np.mean(total))\n",
    "            print \" valloss: %.2f\"%(np.mean(total)), \n",
    "            print \" valacc: %.2f (%2d/%2d)\"%(corrects*1.0/valid.n, corrects, valid.n)\n",
    "            \n",
    "            self.e+=1\n",
    "            e+= 1\n",
    "        return self.sesh.run([v for v in tf.trainable_variables() if \"gweights\" in v.name or \"gbias\" in v.name])\n",
    "    \n",
    "    def save(self, folder):\n",
    "        saver = tf.train.Saver(tf.all_variables())\n",
    "        os.system(\"mkdir \"+folder)\n",
    "        saver.save(self.sesh, folder+\"/model.ckpt\")\n",
    "        \n",
    "    def load(self, folder):\n",
    "        saver = tf.train.Saver(tf.all_variables())\n",
    "        saver.restore(self.sesh, folder+\"/model.ckpt\")\n",
    "\n",
    "    # Encode examples\n",
    "    def predict(self, x):\n",
    "        feed_dict = {self.ops[\"x\"]: x}\n",
    "        return self.sesh.run(self.ops[\"preds\"], feed_dict=feed_dict)"
   ]
  },
  {
   "cell_type": "markdown",
   "metadata": {},
   "source": [
    "# Data loading"
   ]
  },
  {
   "cell_type": "code",
   "execution_count": 5,
   "metadata": {},
   "outputs": [],
   "source": [
    "train_df = utils.datafeeder(np.load(\"../data/trainX.npy\"),\\\n",
    "                            np.load(\"../data/trainY.npy\"))\n",
    "valid_df = utils.datafeeder(np.load(\"../data/validX.npy\"),\\\n",
    "                            np.load(\"../data/validY.npy\"))\n",
    "test_df = utils.datafeeder(np.load(\"../data/testX.npy\"),\\\n",
    "                           np.load(\"../data/testY.npy\"))"
   ]
  },
  {
   "cell_type": "markdown",
   "metadata": {},
   "source": [
    "# PPI network loading and D^(-1/2)AD^(-1/2) matrix calculation"
   ]
  },
  {
   "cell_type": "markdown",
   "metadata": {},
   "source": [
    "Real ppi"
   ]
  },
  {
   "cell_type": "code",
   "execution_count": 6,
   "metadata": {},
   "outputs": [
    {
     "name": "stderr",
     "output_type": "stream",
     "text": [
      "../utils.py:85: RuntimeWarning: divide by zero encountered in power\n",
      "  d_inv_sqrt = np.power(rowsum, -0.5).flatten()\n"
     ]
    }
   ],
   "source": [
    "ppi_matrix = np.load(\"../data/ppi2.npy\")\n",
    "nom_adj_matrix = utils.preprocess_adj(ppi_matrix)\n",
    "nom_adj_matrix2 = utils.preprocess_adj2(ppi_matrix)"
   ]
  },
  {
   "cell_type": "markdown",
   "metadata": {},
   "source": [
    "Fake ppi"
   ]
  },
  {
   "cell_type": "code",
   "execution_count": 7,
   "metadata": {
    "collapsed": true
   },
   "outputs": [],
   "source": [
    "fake_ppi = utils.ransomize_ppi(ppi_matrix)\n",
    "nom_fake = utils.preprocess_adj(fake_ppi)\n",
    "nom_fake2 = utils.preprocess_adj2(fake_ppi)"
   ]
  },
  {
   "cell_type": "markdown",
   "metadata": {},
   "source": [
    "No interaction at all"
   ]
  },
  {
   "cell_type": "code",
   "execution_count": 8,
   "metadata": {
    "collapsed": true
   },
   "outputs": [],
   "source": [
    "nom_noitx = utils.preprocess_adj(np.zeros((3949,3949)))\n",
    "nom_noitx2 = utils.preprocess_adj2(np.zeros((3949,3949)))"
   ]
  },
  {
   "cell_type": "markdown",
   "metadata": {},
   "source": [
    "# Training models"
   ]
  },
  {
   "cell_type": "code",
   "execution_count": 12,
   "metadata": {},
   "outputs": [],
   "source": [
    "model1 = PPiConv(nom_adj_matrix, gc.convolutionGraph)"
   ]
  },
  {
   "cell_type": "code",
   "execution_count": 13,
   "metadata": {},
   "outputs": [
    {
     "name": "stdout",
     "output_type": "stream",
     "text": [
      "Epoch: [ 0/20], Batch: [112/113], loss: 3.31 valloss: 3.28  valacc: 0.12 (150/1280)\n",
      "Epoch: [ 1/20], Batch: [112/113], loss: 3.27 valloss: 3.27  valacc: 0.12 (150/1280)\n",
      "Epoch: [ 2/20], Batch: [112/113], loss: 3.17 valloss: 3.26  valacc: 0.12 (151/1280)\n",
      "Epoch: [ 3/20], Batch: [112/113], loss: 3.13 valloss: 3.24  valacc: 0.12 (151/1280)\n",
      "Epoch: [ 4/20], Batch: [112/113], loss: 3.17 valloss: 3.24  valacc: 0.12 (160/1280)\n",
      "Epoch: [ 5/20], Batch: [112/113], loss: 3.09 valloss: 3.24  valacc: 0.14 (177/1280)\n",
      "Epoch: [ 6/20], Batch: [112/113], loss: 2.76 valloss: 2.92  valacc: 0.21 (263/1280)\n",
      "Epoch: [ 7/20], Batch: [112/113], loss: 1.70 valloss: 2.10  valacc: 0.46 (584/1280)\n",
      "Epoch: [ 8/20], Batch: [112/113], loss: 1.21 valloss: 1.20  valacc: 0.70 (896/1280)\n",
      "Epoch: [ 9/20], Batch: [112/113], loss: 0.30 valloss: 0.73  valacc: 0.81 (1041/1280)\n",
      "Epoch: [10/20], Batch: [112/113], loss: 0.28 valloss: 0.47  valacc: 0.89 (1137/1280)\n",
      "Epoch: [11/20], Batch: [112/113], loss: 0.16 valloss: 0.35  valacc: 0.92 (1172/1280)\n",
      "Epoch: [12/20], Batch: [112/113], loss: 0.14 valloss: 0.27  valacc: 0.94 (1200/1280)\n",
      "Epoch: [13/20], Batch: [112/113], loss: 0.09 valloss: 0.22  valacc: 0.96 (1223/1280)\n",
      "Epoch: [14/20], Batch: [112/113], loss: 0.04 valloss: 0.19  valacc: 0.95 (1222/1280)\n",
      "Epoch: [15/20], Batch: [112/113], loss: 0.04 valloss: 0.23  valacc: 0.94 (1199/1280)\n",
      "Epoch: [16/20], Batch: [112/113], loss: 0.01 valloss: 0.17  valacc: 0.96 (1223/1280)\n",
      "Epoch: [17/20], Batch: [112/113], loss: 0.03 valloss: 0.16  valacc: 0.96 (1230/1280)\n",
      "Epoch: [18/20], Batch: [112/113], loss: 0.01 valloss: 0.15  valacc: 0.97 (1240/1280)\n",
      "Epoch: [19/20], Batch: [112/113], loss: 0.01 valloss: 0.15  valacc: 0.97 (1240/1280)\n"
     ]
    },
    {
     "data": {
      "text/plain": [
       "[array([[-1.0653082 ,  0.92247313,  1.1574143 , -0.98560864,  0.8911978 ]],\n",
       "       dtype=float32),\n",
       " array([ 0.3250947 , -0.02073159, -0.03004039,  0.12416521,  0.03975927],\n",
       "       dtype=float32),\n",
       " array([[ 0.43256402, -1.2815651 ,  1.184064  , -1.5092957 ,  0.7335243 ],\n",
       "        [-0.13011466,  0.19177902, -0.6716982 , -0.03842251,  0.06097293],\n",
       "        [-0.5263654 , -0.10825673, -1.6380751 ,  0.5879389 , -0.6383903 ],\n",
       "        [-0.56435645, -0.4667417 ,  1.6429226 , -0.22292334,  1.7017963 ],\n",
       "        [-0.34764466,  0.5701493 , -0.7642996 ,  0.5235464 ,  0.60574734]],\n",
       "       dtype=float32),\n",
       " array([-0.12498327,  0.11571214,  0.12323859,  0.10970907,  0.09357195],\n",
       "       dtype=float32),\n",
       " array([[ 0.55596143, -0.72256124],\n",
       "        [ 0.5053033 ,  0.35321695],\n",
       "        [-0.8228186 ,  1.748247  ],\n",
       "        [ 0.21551952,  0.64150167],\n",
       "        [-0.8886932 ,  0.35273477]], dtype=float32),\n",
       " array([-0.01460711, -0.08620176], dtype=float32)]"
      ]
     },
     "execution_count": 13,
     "metadata": {},
     "output_type": "execute_result"
    }
   ],
   "source": [
    "model1.train(train_df, valid_df, 20)"
   ]
  },
  {
   "cell_type": "code",
   "execution_count": 15,
   "metadata": {
    "collapsed": true
   },
   "outputs": [],
   "source": [
    "model2 = PPiConv(nom_fake, convolutionGraph)"
   ]
  }
 ],
 "metadata": {
  "kernelspec": {
   "display_name": "Python 2",
   "language": "python",
   "name": "python2"
  },
  "language_info": {
   "codemirror_mode": {
    "name": "ipython",
    "version": 2
   },
   "file_extension": ".py",
   "mimetype": "text/x-python",
   "name": "python",
   "nbconvert_exporter": "python",
   "pygments_lexer": "ipython2",
   "version": "2.7.14"
  }
 },
 "nbformat": 4,
 "nbformat_minor": 2
}
