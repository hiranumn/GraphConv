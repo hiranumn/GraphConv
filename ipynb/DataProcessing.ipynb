{
 "cells": [
  {
   "cell_type": "code",
   "execution_count": 2,
   "metadata": {},
   "outputs": [],
   "source": [
    "import numpy as np\n",
    "import scipy.sparse as sp\n",
    "import pandas as pd\n",
    "import sklearn.preprocessing as prepro\n",
    "import sys\n",
    "import os\n",
    "\n",
    "import sys\n",
    "sys.path.insert(0, '../')\n",
    "import utils"
   ]
  },
  {
   "cell_type": "markdown",
   "metadata": {},
   "source": [
    "# Loading in RNAseq data from TCGA"
   ]
  },
  {
   "cell_type": "code",
   "execution_count": 30,
   "metadata": {},
   "outputs": [
    {
     "data": {
      "text/plain": [
       "(9092, 3949)"
      ]
     },
     "execution_count": 30,
     "metadata": {},
     "output_type": "execute_result"
    }
   ],
   "source": [
    "# We first start by loading in rawdata obtained from Ayse. Ask her about what kind of batch correction happened.\n",
    "# This is a feature by sample+1 2d matrix. +1 is just a label colmun\n",
    "rawdata = pd.read_table(open(\"../data/rawdata/TCGA/all_TCGA_data_joined_Batch_Corrected.tsv\"))\n",
    "rawdata.shape\n",
    "data = rawdata.values[:, 1:]\n",
    "data.shape"
   ]
  },
  {
   "cell_type": "code",
   "execution_count": 31,
   "metadata": {},
   "outputs": [
    {
     "name": "stdout",
     "output_type": "stream",
     "text": [
      "3949\n",
      "examples: ['A1CF', 'AAGAB', 'AAK1', 'AASDHPPT', 'ABCA5', 'ABCB1', 'ABCB8', 'ABCC3', 'ABCC4', 'ABCC5']\n"
     ]
    }
   ],
   "source": [
    "# Here are labels for cancer types. its \n",
    "labels = [i for i in rawdata][1:]\n",
    "print len(labels)\n",
    "np.save(\"../data/rawdata/TCGA/labels.npy\", labels)\n",
    "print \"examples:\", labels[:10]"
   ]
  },
  {
   "cell_type": "markdown",
   "metadata": {},
   "source": [
    "# Making train/valid/test splits here."
   ]
  },
  {
   "cell_type": "code",
   "execution_count": 32,
   "metadata": {
    "collapsed": true
   },
   "outputs": [],
   "source": [
    "df = pd.read_table(\"../data/rawdata/TCGA/TCGA_cancer_types.tsv\")"
   ]
  },
  {
   "cell_type": "code",
   "execution_count": 33,
   "metadata": {},
   "outputs": [],
   "source": [
    "# Basically making a one hot encoded truth matrix. so you would expect a 9092 by 33 matrix. \n",
    "temp = df[\"Cancertype\"].values\n",
    "lbs = list(set(temp))\n",
    "lbmap = dict([(lbs[i], i) for i in range(len(lbs))])\n",
    "\n",
    "y = np.zeros((len(temp), len(lbs)))\n",
    "for i in range(len(temp)):\n",
    "    y[i, lbmap[temp[i]]] = 1\n",
    "\n",
    "# Double checking with an assert statement.\n",
    "assert y.shape[0] ==  np.sum(y)"
   ]
  },
  {
   "cell_type": "code",
   "execution_count": 34,
   "metadata": {},
   "outputs": [
    {
     "data": {
      "text/plain": [
       "(7172, 1280, 640)"
      ]
     },
     "execution_count": 34,
     "metadata": {},
     "output_type": "execute_result"
    }
   ],
   "source": [
    "# Generating indexes to split on. We are using 640 test, 1280 validation, and about 7000 training samples.\n",
    "indexes = np.arange(y.shape[0])\n",
    "np.random.shuffle(indexes)\n",
    "train = indexes[:-1920]\n",
    "valid = indexes[-1920:-640]\n",
    "test = indexes[-640:]\n",
    "len(train), len(valid), len(test)"
   ]
  },
  {
   "cell_type": "code",
   "execution_count": 35,
   "metadata": {},
   "outputs": [],
   "source": [
    "np.save(\"../data/trainX.npy\", data[train])\n",
    "np.save(\"../data/validX.npy\", data[valid])\n",
    "np.save(\"../data/testX.npy\", data[test])"
   ]
  },
  {
   "cell_type": "code",
   "execution_count": 36,
   "metadata": {
    "collapsed": true
   },
   "outputs": [],
   "source": [
    "np.save(\"../data/trainY.npy\", y[train])\n",
    "np.save(\"../data/validY.npy\", y[valid])\n",
    "np.save(\"../data/testY.npy\", y[test])"
   ]
  },
  {
   "cell_type": "markdown",
   "metadata": {},
   "source": [
    "# Making adjacency matrix"
   ]
  },
  {
   "cell_type": "code",
   "execution_count": 3,
   "metadata": {},
   "outputs": [],
   "source": [
    "rawppi = open(\"../data/rawdata/PPI/BIOGRID-ORGANISM-Homo_sapiens-3.4.157.mitab.txt\")"
   ]
  },
  {
   "cell_type": "code",
   "execution_count": 4,
   "metadata": {
    "collapsed": true
   },
   "outputs": [],
   "source": [
    "ppi = rawppi.readlines()"
   ]
  },
  {
   "cell_type": "code",
   "execution_count": 5,
   "metadata": {},
   "outputs": [
    {
     "name": "stdout",
     "output_type": "stream",
     "text": [
      "PRRC2A_SSR3\n"
     ]
    }
   ],
   "source": [
    "# intx is a class that stores ppi\n",
    "temp = utils.intx(ppi[123])\n",
    "print temp"
   ]
  },
  {
   "cell_type": "code",
   "execution_count": 6,
   "metadata": {},
   "outputs": [
    {
     "name": "stdout",
     "output_type": "stream",
     "text": [
      "True\n",
      "True\n",
      "True\n",
      "False\n"
     ]
    }
   ],
   "source": [
    "# Double checking if it works\n",
    "print \"SSR3\" in temp\n",
    "print temp.isInteracting(\"PRRC2A\", \"SSR3\")\n",
    "print temp.isInteracting(\"SSR3\", \"PRRC2A\")\n",
    "print temp.isInteracting(\"SSR3\", \"dmy\")"
   ]
  },
  {
   "cell_type": "code",
   "execution_count": 8,
   "metadata": {},
   "outputs": [
    {
     "name": "stdout",
     "output_type": "stream",
     "text": [
      "# of interactions: 410003\n"
     ]
    }
   ],
   "source": [
    "# Loading in all interactions\n",
    "interactions = [utils.intx(i) for i in ppi[1:]]\n",
    "print \"# of interactions:\", len(interactions)"
   ]
  },
  {
   "cell_type": "code",
   "execution_count": 9,
   "metadata": {},
   "outputs": [
    {
     "data": {
      "text/plain": [
       "15"
      ]
     },
     "execution_count": 9,
     "metadata": {},
     "output_type": "execute_result"
    }
   ],
   "source": [
    "# How many iteraction does SERF2 have?\n",
    "sum([\"SERF2\" in i for i in interactions])"
   ]
  },
  {
   "cell_type": "code",
   "execution_count": 38,
   "metadata": {},
   "outputs": [
    {
     "name": "stdout",
     "output_type": "stream",
     "text": [
      "MAP2K4_FLNC\n",
      "[]\n"
     ]
    }
   ],
   "source": [
    "# Basically checking if a label is involved in an interaction (0th)\n",
    "print interactions[0]\n",
    "inds = [i for i in range(len(labels)) if labels[i] in interactions[0]]\n",
    "print inds"
   ]
  },
  {
   "cell_type": "code",
   "execution_count": 39,
   "metadata": {
    "collapsed": true
   },
   "outputs": [],
   "source": [
    "# We are generating a 20000 by 20000 ppi matrix. This may take a while but you need to only do it once.\n",
    "ppi_matrix = np.zeros((len(labels), len(labels)))\n",
    "\n",
    "discarded = []\n",
    "# For each interaction,\n",
    "for interaction in interactions:\n",
    "    # Check which genes participate in interactions\n",
    "    # There are some weird cases where more than 2 genes participate in a single interactions \n",
    "    inds = [i for i in range(len(labels)) if labels[i] in interaction]\n",
    "    temp = []\n",
    "    \n",
    "    # Get a tuple of indecies to fill. Do not fill in self-interaction.\n",
    "    for i in inds:\n",
    "        for j in inds:\n",
    "            if i!=j:\n",
    "                temp.append([i, j])\n",
    "                temp.append([j, i])\n",
    "                \n",
    "    # Fill the matrix.\n",
    "    for t in temp:\n",
    "        ppi_matrix[t[0], t[1]] = 1\n",
    "    \n",
    "    # Just keep track of what kinds of interactions are being discarded.\n",
    "    if len(temp) == 0:\n",
    "        discarded.append(interaction)\n",
    "                \n",
    "    # Print interactions that are weird.\n",
    "    if len(inds)<2:\n",
    "        #print [labels[j] for j in inds], interaction, temp\n",
    "        pass"
   ]
  },
  {
   "cell_type": "code",
   "execution_count": 40,
   "metadata": {
    "collapsed": true
   },
   "outputs": [],
   "source": [
    "np.save(\"../data/ppi2.npy\", ppi_matrix)"
   ]
  },
  {
   "cell_type": "code",
   "execution_count": 42,
   "metadata": {},
   "outputs": [
    {
     "name": "stdout",
     "output_type": "stream",
     "text": [
      "Shape: (3949, 3949)\n",
      "Sparcity: 0.003454144161816003\n"
     ]
    }
   ],
   "source": [
    "ppi_matrix = np.load(\"../data/ppi2.npy\")\n",
    "print \"Shape:\", ppi_matrix.shape\n",
    "print \"Sparcity:\", np.sum(ppi_matrix)/(ppi_matrix.shape[0]**2)"
   ]
  }
 ],
 "metadata": {
  "kernelspec": {
   "display_name": "Python 2",
   "language": "python",
   "name": "python2"
  },
  "language_info": {
   "codemirror_mode": {
    "name": "ipython",
    "version": 2
   },
   "file_extension": ".py",
   "mimetype": "text/x-python",
   "name": "python",
   "nbconvert_exporter": "python",
   "pygments_lexer": "ipython2",
   "version": "2.7.14"
  }
 },
 "nbformat": 4,
 "nbformat_minor": 2
}
